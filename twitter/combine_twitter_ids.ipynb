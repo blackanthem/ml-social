{
 "cells": [
  {
   "cell_type": "code",
   "execution_count": 7,
   "metadata": {},
   "outputs": [],
   "source": [
    "from glob import glob\n",
    "\n",
    "import os\n",
    "import pandas as pd"
   ]
  },
  {
   "cell_type": "markdown",
   "metadata": {},
   "source": [
    "Combine collected IDs into one csv file"
   ]
  },
  {
   "cell_type": "code",
   "execution_count": 18,
   "metadata": {},
   "outputs": [
    {
     "data": {
      "text/plain": [
       "613032"
      ]
     },
     "execution_count": 18,
     "metadata": {},
     "output_type": "execute_result"
    }
   ],
   "source": [
    "twitter_ids = []\n",
    "for filename in glob(\"datasets/twitter_ids/*.csv\"):\n",
    "    ids = pd.read_csv(os.path.join(os.getcwd(), filename))[\"id\"].to_list()\n",
    "    twitter_ids.extend(ids)\n",
    "\n",
    "pd.DataFrame({\"id\": twitter_ids}).to_csv(\n",
    "    \"datasets/twitter_ids.csv\", index=False)\n"
   ]
  },
  {
   "cell_type": "markdown",
   "metadata": {},
   "source": [
    "Delete collected IDs"
   ]
  },
  {
   "cell_type": "code",
   "execution_count": 19,
   "metadata": {},
   "outputs": [
    {
     "name": "stdout",
     "output_type": "stream",
     "text": [
      "Deleted datasets/twitter_ids\\2022-07-16 17-21-43.csv\n",
      "Deleted datasets/twitter_ids\\2022-07-16 17-22-00.csv\n",
      "Deleted datasets/twitter_ids\\2022-07-16 17-24-18.csv\n",
      "Deleted datasets/twitter_ids\\2022-07-16 17-35-19.csv\n",
      "Deleted datasets/twitter_ids\\2022-07-16 18-52-28.csv\n",
      "Deleted datasets/twitter_ids\\2022-07-16 19-05-41.csv\n",
      "Deleted datasets/twitter_ids\\2022-07-16 19-11-45.csv\n",
      "Deleted datasets/twitter_ids\\2022-07-16 19-12-44.csv\n",
      "Deleted datasets/twitter_ids\\2022-07-16 19-55-32.csv\n",
      "Deleted datasets/twitter_ids\\2022-07-16 20-18-11.csv\n",
      "Deleted datasets/twitter_ids\\2022-07-16 20-30-33.csv\n",
      "Deleted datasets/twitter_ids\\2022-07-16 21-48-44.csv\n",
      "Deleted datasets/twitter_ids\\2022-07-16 22-33-54.csv\n",
      "Deleted datasets/twitter_ids\\2022-07-16 23-04-56.csv\n",
      "Deleted datasets/twitter_ids\\2022-07-17 08-03-54.csv\n",
      "Deleted datasets/twitter_ids\\2022-07-17 08-08-30.csv\n",
      "Deleted datasets/twitter_ids\\2022-07-17 08-56-09.csv\n"
     ]
    }
   ],
   "source": [
    "for filename in glob(\"datasets/twitter_ids/*.csv\"):\n",
    "    os.remove(os.path.join(os.getcwd(), filename))\n",
    "    print(f\"Deleted {filename}\")\n"
   ]
  }
 ],
 "metadata": {
  "kernelspec": {
   "display_name": "Python 3.10.5 64-bit",
   "language": "python",
   "name": "python3"
  },
  "language_info": {
   "codemirror_mode": {
    "name": "ipython",
    "version": 3
   },
   "file_extension": ".py",
   "mimetype": "text/x-python",
   "name": "python",
   "nbconvert_exporter": "python",
   "pygments_lexer": "ipython3",
   "version": "3.10.5"
  },
  "orig_nbformat": 4,
  "vscode": {
   "interpreter": {
    "hash": "ab65a6a126614c4d8a09c3bb162b3d2e4f4a949753c6f0f735c7c1fe269df83b"
   }
  }
 },
 "nbformat": 4,
 "nbformat_minor": 2
}
