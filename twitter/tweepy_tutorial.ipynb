{
 "cells": [
  {
   "cell_type": "code",
   "execution_count": 1,
   "metadata": {},
   "outputs": [
    {
     "data": {
      "text/plain": [
       "True"
      ]
     },
     "execution_count": 1,
     "metadata": {},
     "output_type": "execute_result"
    }
   ],
   "source": [
    "from dotenv import load_dotenv\n",
    "load_dotenv()\n"
   ]
  },
  {
   "cell_type": "code",
   "execution_count": 28,
   "metadata": {},
   "outputs": [],
   "source": [
    "from tweepy import Client, Paginator\n",
    "\n",
    "import os\n",
    "import math"
   ]
  },
  {
   "cell_type": "code",
   "execution_count": 3,
   "metadata": {},
   "outputs": [],
   "source": [
    "client = Client(\n",
    "    bearer_token=os.environ[\"BEARER_TOKEN\"], wait_on_rate_limit=True)"
   ]
  },
  {
   "cell_type": "code",
   "execution_count": 34,
   "metadata": {},
   "outputs": [],
   "source": [
    "academic_client = Client(\n",
    "    bearer_token=os.environ[\"ACADEMIC_BEARER_TOKEN\"], wait_on_rate_limit=True)"
   ]
  },
  {
   "cell_type": "markdown",
   "metadata": {},
   "source": [
    "## Calculate influence score"
   ]
  },
  {
   "cell_type": "code",
   "execution_count": 4,
   "metadata": {},
   "outputs": [],
   "source": [
    "# Get maximum allowable tweets per user\n",
    "def get_all_tweets(id: int):\n",
    "    all_tweets = []\n",
    "\n",
    "    for response in Paginator(client.get_users_tweets, id, tweet_fields=[\"created_at\", \"text\",\n",
    "                                                                         \"source\", \"public_metrics\", \"geo\", \"entities\", \"conversation_id\", \"possibly_sensitive\", \"referenced_tweets\"],\n",
    "                              max_results=100):\n",
    "        if response.data is not None:\n",
    "            all_tweets.extend(response.data)\n",
    "\n",
    "    return all_tweets\n"
   ]
  },
  {
   "cell_type": "code",
   "execution_count": 5,
   "metadata": {},
   "outputs": [
    {
     "data": {
      "text/plain": [
       "3240"
      ]
     },
     "execution_count": 5,
     "metadata": {},
     "output_type": "execute_result"
    }
   ],
   "source": [
    "tweets = get_all_tweets(id=1145137598379282432 )\n",
    "len(tweets)"
   ]
  },
  {
   "cell_type": "code",
   "execution_count": 6,
   "metadata": {},
   "outputs": [],
   "source": [
    "# check if tweet contains urls, hashtags, mentions\n",
    "def get_entities_count(tweet):\n",
    "    entities = tweet.entities\n",
    "\n",
    "    if entities is None:\n",
    "        return {\n",
    "            \"hashtag_count\": 0,\n",
    "            \"url_count\": 0,\n",
    "            \"mention_count\": 0,\n",
    "        }\n",
    "\n",
    "    return{\n",
    "        \"hashtag_count\": len(entities.get(\"hashtags\", \"\")),\n",
    "        \"url_count\": len(entities.get(\"urls\", \"\")),\n",
    "        \"mention_count\": len(entities.get(\"mentions\", \"\")),\n",
    "    }\n"
   ]
  },
  {
   "cell_type": "code",
   "execution_count": 7,
   "metadata": {},
   "outputs": [],
   "source": [
    "# check if tweet is retweet\n",
    "def check_if_retweet(tweet):\n",
    "    referenced_tweets = tweet.referenced_tweets\n",
    "\n",
    "    if referenced_tweets is None:\n",
    "        return 0\n",
    "\n",
    "    for referenced_tweet in referenced_tweets:\n",
    "        if referenced_tweet[\"type\"] == \"retweeted\":\n",
    "            return 1\n",
    "\n",
    "    return 0\n"
   ]
  },
  {
   "cell_type": "code",
   "execution_count": 8,
   "metadata": {},
   "outputs": [
    {
     "data": {
      "text/plain": [
       "0"
      ]
     },
     "execution_count": 8,
     "metadata": {},
     "output_type": "execute_result"
    }
   ],
   "source": [
    "# calculate h-index\n",
    "# https://www.youtube.com/watch?v=FvnTWDKT_ck\n",
    "def calculate_h_index(array: list[int]) -> int:\n",
    "    N = len(array)\n",
    "    tmp = [0 for _ in range(N+1)]\n",
    "    for i, v in enumerate(array):\n",
    "        if v > N:\n",
    "            tmp[N] += 1\n",
    "        else:\n",
    "            tmp[v] += 1\n",
    "\n",
    "    total = 0\n",
    "    for i in range(N, -1, -1):\n",
    "        total += tmp[i]\n",
    "        if total >= i:\n",
    "            return i\n",
    "\n",
    "\n",
    "# def get_retweet_index(tweets):\n",
    "\n",
    "\n",
    "calculate_h_index([0])\n"
   ]
  },
  {
   "cell_type": "code",
   "execution_count": 47,
   "metadata": {},
   "outputs": [
    {
     "data": {
      "text/plain": [
       "{'username': 'gyaigyimii',\n",
       " 'user_id': 1145137598379282432,\n",
       " 'tweet_count': 334031,\n",
       " 'listed_count': 412,\n",
       " 'social_reputation_score': 14.739181555172541,\n",
       " 'followers_count': 965771,\n",
       " 'following_count': 20942,\n",
       " 'mention_ratio': 38.32642479290844}"
      ]
     },
     "execution_count": 47,
     "metadata": {},
     "output_type": "execute_result"
    }
   ],
   "source": [
    "def get_user_level_features(id: int):\n",
    "    response = client.get_user(\n",
    "        id=id, user_fields=[\"public_metrics\", \"created_at\"])\n",
    "    if response.data is None:\n",
    "        return None\n",
    "\n",
    "    public_metrics = response.data[\"public_metrics\"]\n",
    "\n",
    "\n",
    "    username = response.data[\"username\"]\n",
    "    user_id = response.data[\"id\"]\n",
    "    followers_count = public_metrics[\"followers_count\"]\n",
    "    following_count = public_metrics[\"following_count\"]\n",
    "    listed_count = public_metrics[\"listed_count\"]\n",
    "    tweet_count = public_metrics[\"tweet_count\"]\n",
    "    account_creation_date = response.data[\"created_at\"]\n",
    "    social_reputation_score = math.log( \n",
    "        (1 + followers_count) * (1+followers_count), 10) + math.log(1 + tweet_count) - math.log((1+following_count))\n",
    "\n",
    "    mention_ratio = get_total_tweets_mentioning_user(username, account_creation_date) / tweet_count\n",
    "\n",
    "\n",
    "    return {\n",
    "        \"username\": username,\n",
    "        \"user_id\": user_id,\n",
    "        \"tweet_count\": tweet_count,\n",
    "        \"listed_count\": listed_count,\n",
    "        \"social_reputation_score\": social_reputation_score,\n",
    "        \"followers_count\": followers_count,\n",
    "        \"following_count\": following_count,\n",
    "        \"mention_ratio\": mention_ratio\n",
    "    }\n",
    "\n",
    "\n",
    "user_level_features = get_user_level_features(1145137598379282432)\n",
    "user_level_features\n"
   ]
  },
  {
   "cell_type": "code",
   "execution_count": 35,
   "metadata": {},
   "outputs": [],
   "source": [
    "def get_total_tweets_mentioning_user(username, account_creation_date):\n",
    "    if username is None or account_creation_date is None:\n",
    "        return None\n",
    "\n",
    "    query = f'(\"@{username}\") -from:{username}'\n",
    "\n",
    "    total_tweets = 0\n",
    "    for response in Paginator(academic_client.get_all_tweets_count, query, granularity=\"day\", start_time=account_creation_date):\n",
    "        total_tweets += response.meta[\"total_tweet_count\"]\n",
    "    \n",
    "    return total_tweets\n",
    "\n",
    "\n",
    "# get_total_tweets_mentioning_user(\n",
    "#     user[\"username\"], user[\"account_creation_date\"])\n"
   ]
  },
  {
   "cell_type": "code",
   "execution_count": 46,
   "metadata": {},
   "outputs": [
    {
     "data": {
      "text/plain": [
       "{'retweet_h_index': 558,\n",
       " 'like_h_index': 530,\n",
       " 'quote_h_index': 46,\n",
       " 'reply_h_index': 122,\n",
       " 'retweets_plus_quotes_h_index': 562,\n",
       " 'tweet_credibility': 259.76394523510135,\n",
       " 'total_tweets_w_url': 1266,\n",
       " 'retweet_ratio': 1791.4922839506173,\n",
       " 'like_ratio': 515.3518518518518,\n",
       " 'reply_ratio': 19.321913580246914,\n",
       " 'quote_ratio': 3.123148148148148,\n",
       " 'url_ratio': 0.4978395061728395}"
      ]
     },
     "execution_count": 46,
     "metadata": {},
     "output_type": "execute_result"
    }
   ],
   "source": [
    "\n",
    "\n",
    "def get_tweet_credibility_index_score(tweets: list):\n",
    "\n",
    "    total_likes = total_replies = total_retweets = total_tweets_w_url = total_quotes = total_hashtags = total_urls = total_mentions = total_retweeted_posts = total_retweets_plus_quotes = 0\n",
    "    total_tweets = len(tweets)\n",
    "    retweet_list = []\n",
    "    quote_list = []\n",
    "    like_list = []\n",
    "    reply_list = []\n",
    "    retweets_plus_quotes_list = []\n",
    "\n",
    "    for tweet in tweets:\n",
    "\n",
    "        retweet_count = tweet.public_metrics[\"retweet_count\"]\n",
    "        total_retweets += retweet_count\n",
    "        retweet_list.append(retweet_count)\n",
    "\n",
    "        quote_count = tweet.public_metrics[\"quote_count\"]\n",
    "        total_quotes += quote_count\n",
    "        quote_list.append(quote_count)\n",
    "\n",
    "        retweets_plus_quotes_count = tweet.public_metrics[\"quote_count\"] + \\\n",
    "            tweet.public_metrics[\"retweet_count\"]\n",
    "        total_retweets_plus_quotes += retweets_plus_quotes_count\n",
    "        retweets_plus_quotes_list.append(retweets_plus_quotes_count)\n",
    "\n",
    "        like_count = tweet.public_metrics[\"like_count\"]\n",
    "        total_likes += like_count\n",
    "        like_list.append(like_count)\n",
    "\n",
    "        reply_count = tweet.public_metrics[\"reply_count\"]\n",
    "        total_replies += reply_count\n",
    "        reply_list.append(reply_count)\n",
    "\n",
    "        entities_count = get_entities_count(tweet)\n",
    "        total_hashtags += entities_count[\"hashtag_count\"]\n",
    "\n",
    "        total_urls += entities_count[\"url_count\"]\n",
    "        if entities_count[\"url_count\"] > 0:\n",
    "            total_tweets_w_url += 1\n",
    "\n",
    "        total_mentions += entities_count[\"mention_count\"]\n",
    "\n",
    "        total_retweeted_posts += check_if_retweet(tweet)\n",
    "\n",
    "    # tweet credibility components\n",
    "    original_content_ratio = (\n",
    "        total_tweets - total_retweeted_posts) / total_tweets\n",
    "    url_ratio = total_urls / total_tweets\n",
    "    like_ratio = total_likes / total_tweets\n",
    "    retweet_ratio = total_retweets / total_tweets\n",
    "    reply_ratio = total_replies / total_tweets\n",
    "    quote_ratio = total_quotes / total_tweets\n",
    "    hashtag_ratio = total_hashtags / total_tweets\n",
    "\n",
    "    # index score\n",
    "    retweet_h_index = calculate_h_index(retweet_list)\n",
    "    like_h_index = calculate_h_index(like_list)\n",
    "    quote_h_index = calculate_h_index(quote_list)\n",
    "    reply_h_index = calculate_h_index(reply_list)\n",
    "    retweets_plus_quotes_h_index = calculate_h_index(retweets_plus_quotes_list)\n",
    "\n",
    "    # calculate tweet credibility\n",
    "    tweet_credibility = ((retweet_ratio + like_ratio +\n",
    "                         hashtag_ratio + url_ratio) / 4) * original_content_ratio\n",
    "\n",
    "    return {\n",
    "        \"retweet_h_index\": retweet_h_index,\n",
    "        \"like_h_index\": like_h_index,\n",
    "        \"quote_h_index\": quote_h_index,\n",
    "        \"reply_h_index\": reply_h_index,\n",
    "        \"retweets_plus_quotes_h_index\": retweets_plus_quotes_h_index,\n",
    "        \"tweet_credibility\": tweet_credibility,\n",
    "        \"total_tweets_w_url\": total_tweets_w_url,\n",
    "        \"retweet_ratio\": retweet_ratio,\n",
    "        \"like_ratio\": like_ratio,\n",
    "        \"reply_ratio\": reply_ratio,\n",
    "        \"quote_ratio\": quote_ratio,\n",
    "        \"url_ratio\": url_ratio,\n",
    "    }\n",
    "\n",
    "\n",
    "tweet_level_features = get_tweet_credibility_index_score(tweets)\n",
    "tweet_level_features\n"
   ]
  },
  {
   "cell_type": "code",
   "execution_count": 62,
   "metadata": {},
   "outputs": [
    {
     "name": "stdout",
     "output_type": "stream",
     "text": [
      "106.83437559675797\n"
     ]
    }
   ],
   "source": [
    "\n",
    "\n",
    "def get_influence_score(features: dict):\n",
    "    # sentiment_score = features[\"sentiment_score\"]\n",
    "    tweet_credibility = features[\"tweet_credibility\"]\n",
    "    social_reputation_score = features[\"social_reputation_score\"]\n",
    "    retweet_h_index = features[\"retweet_h_index\"]\n",
    "    like_h_index = features[\"like_h_index\"]\n",
    "    quote_h_index = features[\"quote_h_index\"]\n",
    "\n",
    "    print(sum([tweet_credibility, social_reputation_score, quote_h_index]) / 3)\n",
    "\n",
    "\n",
    "tweet_level_features.update(user_level_features)\n",
    "\n",
    "# print(tweet_level_features)\n",
    "\n",
    "\n",
    "def df():\n",
    "    return get_influence_score(tweet_level_features)\n",
    "\n",
    "df()\n"
   ]
  }
 ],
 "metadata": {
  "kernelspec": {
   "display_name": "Python 3.10.5 64-bit",
   "language": "python",
   "name": "python3"
  },
  "language_info": {
   "codemirror_mode": {
    "name": "ipython",
    "version": 3
   },
   "file_extension": ".py",
   "mimetype": "text/x-python",
   "name": "python",
   "nbconvert_exporter": "python",
   "pygments_lexer": "ipython3",
   "version": "3.10.5"
  },
  "orig_nbformat": 4,
  "vscode": {
   "interpreter": {
    "hash": "ab65a6a126614c4d8a09c3bb162b3d2e4f4a949753c6f0f735c7c1fe269df83b"
   }
  }
 },
 "nbformat": 4,
 "nbformat_minor": 2
}
