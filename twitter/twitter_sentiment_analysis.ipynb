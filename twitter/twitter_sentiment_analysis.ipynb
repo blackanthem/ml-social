{
  "cells": [
    {
      "cell_type": "code",
      "execution_count": 20,
      "metadata": {
        "id": "kycFQ7NQrrXx"
      },
      "outputs": [],
      "source": [
        "from nltk.stem.wordnet import WordNetLemmatizer\n",
        "from nltk.corpus import stopwords\n",
        "from nltk.tag import pos_tag\n",
        "from nltk.tokenize import word_tokenize\n",
        "from sklearn.svm import LinearSVC\n",
        "from sklearn.naive_bayes import BernoulliNB\n",
        "from sklearn.linear_model import LogisticRegression\n",
        "from sklearn.ensemble import RandomForestClassifier\n",
        "from sklearn.feature_extraction.text import TfidfVectorizer\n",
        "from sklearn.model_selection import train_test_split\n",
        "from sklearn.metrics import accuracy_score\n",
        "from xgboost import XGBClassifier\n",
        "from sklearn.preprocessing import LabelEncoder\n",
        "\n",
        "import re\n",
        "import string\n",
        "import pickle\n",
        "import pandas as pd\n"
      ]
    },
    {
      "cell_type": "markdown",
      "metadata": {
        "id": "f4TM7PXfrrX4"
      },
      "source": [
        "## Let's go"
      ]
    },
    {
      "cell_type": "code",
      "execution_count": 21,
      "metadata": {
        "id": "P_2HxB0VrrX7"
      },
      "outputs": [],
      "source": [
        "### import dataset\n",
        "df = pd.read_csv(\"datasets/tweets.csv\")\n",
        "df = df.dropna()\n",
        "df[\"category\"] = df[\"category\"].astype(int)\n"
      ]
    },
    {
      "cell_type": "code",
      "execution_count": 22,
      "metadata": {
        "colab": {
          "base_uri": "https://localhost:8080/",
          "height": 463
        },
        "id": "JjLzfaHHrrX8",
        "outputId": "6559ccfa-cf03-4125-dfbc-0fbb6b13982c"
      },
      "outputs": [
        {
          "name": "stdout",
          "output_type": "stream",
          "text": [
            "<class 'pandas.core.frame.DataFrame'>\n",
            "Int64Index: 162969 entries, 0 to 162979\n",
            "Data columns (total 2 columns):\n",
            " #   Column      Non-Null Count   Dtype \n",
            "---  ------      --------------   ----- \n",
            " 0   clean_text  162969 non-null  object\n",
            " 1   category    162969 non-null  int32 \n",
            "dtypes: int32(1), object(1)\n",
            "memory usage: 3.1+ MB\n",
            "None\n",
            "\n",
            "Target values: [-1  0  1] \n",
            "\n"
          ]
        },
        {
          "data": {
            "text/html": [
              "<div>\n",
              "<style scoped>\n",
              "    .dataframe tbody tr th:only-of-type {\n",
              "        vertical-align: middle;\n",
              "    }\n",
              "\n",
              "    .dataframe tbody tr th {\n",
              "        vertical-align: top;\n",
              "    }\n",
              "\n",
              "    .dataframe thead th {\n",
              "        text-align: right;\n",
              "    }\n",
              "</style>\n",
              "<table border=\"1\" class=\"dataframe\">\n",
              "  <thead>\n",
              "    <tr style=\"text-align: right;\">\n",
              "      <th></th>\n",
              "      <th>clean_text</th>\n",
              "      <th>category</th>\n",
              "    </tr>\n",
              "  </thead>\n",
              "  <tbody>\n",
              "    <tr>\n",
              "      <th>162975</th>\n",
              "      <td>why these 456 crores paid neerav modi not reco...</td>\n",
              "      <td>-1</td>\n",
              "    </tr>\n",
              "    <tr>\n",
              "      <th>162976</th>\n",
              "      <td>dear rss terrorist payal gawar what about modi...</td>\n",
              "      <td>-1</td>\n",
              "    </tr>\n",
              "    <tr>\n",
              "      <th>162977</th>\n",
              "      <td>did you cover her interaction forum where she ...</td>\n",
              "      <td>0</td>\n",
              "    </tr>\n",
              "    <tr>\n",
              "      <th>162978</th>\n",
              "      <td>there big project came into india modi dream p...</td>\n",
              "      <td>0</td>\n",
              "    </tr>\n",
              "    <tr>\n",
              "      <th>162979</th>\n",
              "      <td>have you ever listen about like gurukul where ...</td>\n",
              "      <td>1</td>\n",
              "    </tr>\n",
              "  </tbody>\n",
              "</table>\n",
              "</div>"
            ],
            "text/plain": [
              "                                               clean_text  category\n",
              "162975  why these 456 crores paid neerav modi not reco...        -1\n",
              "162976  dear rss terrorist payal gawar what about modi...        -1\n",
              "162977  did you cover her interaction forum where she ...         0\n",
              "162978  there big project came into india modi dream p...         0\n",
              "162979  have you ever listen about like gurukul where ...         1"
            ]
          },
          "execution_count": 22,
          "metadata": {},
          "output_type": "execute_result"
        }
      ],
      "source": [
        "print(f\"{df.info()}\\n\")\n",
        "print(f\"Target values: {df['category'].unique()} \\n\")\n",
        "df.tail()"
      ]
    },
    {
      "cell_type": "code",
      "execution_count": 32,
      "metadata": {
        "colab": {
          "base_uri": "https://localhost:8080/",
          "height": 37
        },
        "id": "w-uCJw88rrX-",
        "outputId": "74b60c41-84bf-4d67-a9e5-aedce21e4d76"
      },
      "outputs": [
        {
          "data": {
            "text/plain": [
              "'sandra yall whatllve'"
            ]
          },
          "execution_count": 32,
          "metadata": {},
          "output_type": "execute_result"
        }
      ],
      "source": [
        "# clean data\n",
        "stop_words = stopwords.words('english')\n",
        "translator = str.maketrans('', '', string.punctuation)\n",
        "tokenizer = TweetTokenizer()\n",
        "lemmatizer = WordNetLemmatizer()\n",
        "\n",
        "\n",
        "def clean_text(text: str):\n",
        "\n",
        "    # lowercase string\n",
        "    text = text.lower()\n",
        "\n",
        "    # remove stop words\n",
        "    text = \" \".join([word for word in str(\n",
        "        text).split() if word not in stop_words])\n",
        "\n",
        "    # remove urls\n",
        "    text = re.sub('((www.[^s]+)|(https?://[^s]+))', ' ', text)\n",
        "\n",
        "    # remove punctuations\n",
        "    text = text.translate(translator)\n",
        "\n",
        "    # remove repeating characters\n",
        "    text = re.sub(r'(.)1+', r'1', text)\n",
        "\n",
        "    # remove numbers\n",
        "    # text = re.sub('[0-9]+', '', text)\n",
        "\n",
        "    # tokenize text\n",
        "    text: list[str] = word_tokenize(text)\n",
        "\n",
        "    # normalize with lemmatizer\n",
        "    tokens = []\n",
        "    for token, tag in pos_tag(text):\n",
        "        if tag.startswith(\"NN\"):\n",
        "            pos = 'n'\n",
        "        elif tag.startswith('VB'):\n",
        "            pos = 'v'\n",
        "        else:\n",
        "            pos = 'a'\n",
        "\n",
        "        token = lemmatizer.lemmatize(token, pos)\n",
        "        tokens.append(token)\n",
        "    text = tokens\n",
        "\n",
        "    text = \" \".join(text)\n",
        "\n",
        "    return text\n",
        "\n",
        "\n",
        "clean_text(\"SANDRA y'all what'll've\")\n"
      ]
    },
    {
      "cell_type": "code",
      "execution_count": 57,
      "metadata": {
        "colab": {
          "base_uri": "https://localhost:8080/",
          "height": 206
        },
        "id": "vdPUM8gurrYB",
        "outputId": "2199937b-4f75-43e4-d002-54e8b3308fa7"
      },
      "outputs": [
        {
          "data": {
            "text/html": [
              "\n",
              "  <div id=\"df-4e5cad08-4ab8-4457-90c7-f62cef61279a\">\n",
              "    <div class=\"colab-df-container\">\n",
              "      <div>\n",
              "<style scoped>\n",
              "    .dataframe tbody tr th:only-of-type {\n",
              "        vertical-align: middle;\n",
              "    }\n",
              "\n",
              "    .dataframe tbody tr th {\n",
              "        vertical-align: top;\n",
              "    }\n",
              "\n",
              "    .dataframe thead th {\n",
              "        text-align: right;\n",
              "    }\n",
              "</style>\n",
              "<table border=\"1\" class=\"dataframe\">\n",
              "  <thead>\n",
              "    <tr style=\"text-align: right;\">\n",
              "      <th></th>\n",
              "      <th>clean_text</th>\n",
              "      <th>category</th>\n",
              "    </tr>\n",
              "  </thead>\n",
              "  <tbody>\n",
              "    <tr>\n",
              "      <th>162975</th>\n",
              "      <td>crore pay neerav modi recover congress leader ...</td>\n",
              "      <td>-1</td>\n",
              "    </tr>\n",
              "    <tr>\n",
              "      <th>162976</th>\n",
              "      <td>dear rss terrorist payal gawar modi kill plus ...</td>\n",
              "      <td>-1</td>\n",
              "    </tr>\n",
              "    <tr>\n",
              "      <th>162977</th>\n",
              "      <td>cover interaction forum leave</td>\n",
              "      <td>0</td>\n",
              "    </tr>\n",
              "    <tr>\n",
              "      <th>162978</th>\n",
              "      <td>big project come india modi dream project happ...</td>\n",
              "      <td>0</td>\n",
              "    </tr>\n",
              "    <tr>\n",
              "      <th>162979</th>\n",
              "      <td>ever listen like gurukul discipline maintain e...</td>\n",
              "      <td>1</td>\n",
              "    </tr>\n",
              "  </tbody>\n",
              "</table>\n",
              "</div>\n",
              "      <button class=\"colab-df-convert\" onclick=\"convertToInteractive('df-4e5cad08-4ab8-4457-90c7-f62cef61279a')\"\n",
              "              title=\"Convert this dataframe to an interactive table.\"\n",
              "              style=\"display:none;\">\n",
              "        \n",
              "  <svg xmlns=\"http://www.w3.org/2000/svg\" height=\"24px\"viewBox=\"0 0 24 24\"\n",
              "       width=\"24px\">\n",
              "    <path d=\"M0 0h24v24H0V0z\" fill=\"none\"/>\n",
              "    <path d=\"M18.56 5.44l.94 2.06.94-2.06 2.06-.94-2.06-.94-.94-2.06-.94 2.06-2.06.94zm-11 1L8.5 8.5l.94-2.06 2.06-.94-2.06-.94L8.5 2.5l-.94 2.06-2.06.94zm10 10l.94 2.06.94-2.06 2.06-.94-2.06-.94-.94-2.06-.94 2.06-2.06.94z\"/><path d=\"M17.41 7.96l-1.37-1.37c-.4-.4-.92-.59-1.43-.59-.52 0-1.04.2-1.43.59L10.3 9.45l-7.72 7.72c-.78.78-.78 2.05 0 2.83L4 21.41c.39.39.9.59 1.41.59.51 0 1.02-.2 1.41-.59l7.78-7.78 2.81-2.81c.8-.78.8-2.07 0-2.86zM5.41 20L4 18.59l7.72-7.72 1.47 1.35L5.41 20z\"/>\n",
              "  </svg>\n",
              "      </button>\n",
              "      \n",
              "  <style>\n",
              "    .colab-df-container {\n",
              "      display:flex;\n",
              "      flex-wrap:wrap;\n",
              "      gap: 12px;\n",
              "    }\n",
              "\n",
              "    .colab-df-convert {\n",
              "      background-color: #E8F0FE;\n",
              "      border: none;\n",
              "      border-radius: 50%;\n",
              "      cursor: pointer;\n",
              "      display: none;\n",
              "      fill: #1967D2;\n",
              "      height: 32px;\n",
              "      padding: 0 0 0 0;\n",
              "      width: 32px;\n",
              "    }\n",
              "\n",
              "    .colab-df-convert:hover {\n",
              "      background-color: #E2EBFA;\n",
              "      box-shadow: 0px 1px 2px rgba(60, 64, 67, 0.3), 0px 1px 3px 1px rgba(60, 64, 67, 0.15);\n",
              "      fill: #174EA6;\n",
              "    }\n",
              "\n",
              "    [theme=dark] .colab-df-convert {\n",
              "      background-color: #3B4455;\n",
              "      fill: #D2E3FC;\n",
              "    }\n",
              "\n",
              "    [theme=dark] .colab-df-convert:hover {\n",
              "      background-color: #434B5C;\n",
              "      box-shadow: 0px 1px 3px 1px rgba(0, 0, 0, 0.15);\n",
              "      filter: drop-shadow(0px 1px 2px rgba(0, 0, 0, 0.3));\n",
              "      fill: #FFFFFF;\n",
              "    }\n",
              "  </style>\n",
              "\n",
              "      <script>\n",
              "        const buttonEl =\n",
              "          document.querySelector('#df-4e5cad08-4ab8-4457-90c7-f62cef61279a button.colab-df-convert');\n",
              "        buttonEl.style.display =\n",
              "          google.colab.kernel.accessAllowed ? 'block' : 'none';\n",
              "\n",
              "        async function convertToInteractive(key) {\n",
              "          const element = document.querySelector('#df-4e5cad08-4ab8-4457-90c7-f62cef61279a');\n",
              "          const dataTable =\n",
              "            await google.colab.kernel.invokeFunction('convertToInteractive',\n",
              "                                                     [key], {});\n",
              "          if (!dataTable) return;\n",
              "\n",
              "          const docLinkHtml = 'Like what you see? Visit the ' +\n",
              "            '<a target=\"_blank\" href=https://colab.research.google.com/notebooks/data_table.ipynb>data table notebook</a>'\n",
              "            + ' to learn more about interactive tables.';\n",
              "          element.innerHTML = '';\n",
              "          dataTable['output_type'] = 'display_data';\n",
              "          await google.colab.output.renderOutput(dataTable, element);\n",
              "          const docLink = document.createElement('div');\n",
              "          docLink.innerHTML = docLinkHtml;\n",
              "          element.appendChild(docLink);\n",
              "        }\n",
              "      </script>\n",
              "    </div>\n",
              "  </div>\n",
              "  "
            ],
            "text/plain": [
              "                                               clean_text  category\n",
              "162975  crore pay neerav modi recover congress leader ...        -1\n",
              "162976  dear rss terrorist payal gawar modi kill plus ...        -1\n",
              "162977                      cover interaction forum leave         0\n",
              "162978  big project come india modi dream project happ...         0\n",
              "162979  ever listen like gurukul discipline maintain e...         1"
            ]
          },
          "execution_count": 57,
          "metadata": {},
          "output_type": "execute_result"
        }
      ],
      "source": [
        "df[\"clean_text\"] = df[\"clean_text\"].map(lambda x: clean_text(x))\n",
        "df.tail()"
      ]
    },
    {
      "cell_type": "code",
      "execution_count": 23,
      "metadata": {
        "id": "el41xPsdrrYF"
      },
      "outputs": [],
      "source": [
        "# split data into training and testing datasets\n",
        "x = df[\"clean_text\"]\n",
        "y = df[\"category\"]\n",
        "# print(x.tail())\n",
        "\n",
        "\n",
        "x_train, x_test, y_train, y_test = train_test_split(x, y, test_size=.3)\n"
      ]
    },
    {
      "cell_type": "code",
      "execution_count": 24,
      "metadata": {
        "colab": {
          "base_uri": "https://localhost:8080/"
        },
        "id": "8OkO-RRorrYG",
        "outputId": "aa30b41d-170f-4288-c80a-307401beaff9"
      },
      "outputs": [
        {
          "name": "stdout",
          "output_type": "stream",
          "text": [
            "No. of feature_words:  85477\n"
          ]
        }
      ],
      "source": [
        "### fit tf-idf vector\n",
        "vectoriser = TfidfVectorizer()\n",
        "vectoriser.fit(x_train)\n",
        "print('No. of feature_words: ', len(vectoriser.get_feature_names_out ()))"
      ]
    },
    {
      "cell_type": "code",
      "execution_count": 28,
      "metadata": {
        "id": "K-yI-votrrYI"
      },
      "outputs": [],
      "source": [
        "### transform train and test dataset\n",
        "# x_train = vectoriser.transform(x_train)\n",
        "# x_test = vectoriser.transform(x_test)\n",
        "\n",
        "# save vectorizer\n",
        "with open(\"models/tweet_feature_extractor.pickle\", \"wb\") as file:\n",
        "    pickle.dump(vectoriser, file)"
      ]
    },
    {
      "cell_type": "code",
      "execution_count": 31,
      "metadata": {
        "colab": {
          "base_uri": "https://localhost:8080/"
        },
        "id": "K8R37R4ErrYJ",
        "outputId": "dc4068bb-378a-4dd4-d077-f0894df4ac64"
      },
      "outputs": [
        {
          "name": "stdout",
          "output_type": "stream",
          "text": [
            "BernoulliNB\n",
            "Accuracy:\t0.7480517886727619\n"
          ]
        }
      ],
      "source": [
        "b_naive_bayes_model = BernoulliNB()\n",
        "b_naive_bayes_model.fit(x_train, y_train)\n",
        "nb_y_pred = b_naive_bayes_model.predict(x_test)\n",
        "print(f\"BernoulliNB\\nAccuracy:\\t{accuracy_score(y_test, nb_y_pred)}\")\n",
        "\n"
      ]
    },
    {
      "cell_type": "code",
      "execution_count": 27,
      "metadata": {
        "colab": {
          "base_uri": "https://localhost:8080/"
        },
        "id": "fgYe-V0grrYK",
        "outputId": "b3546a9a-0427-4c37-f918-ac16c0ca4967"
      },
      "outputs": [
        {
          "name": "stdout",
          "output_type": "stream",
          "text": [
            "SVM\n",
            "Accuracy:\t0.945634165797386\n"
          ]
        }
      ],
      "source": [
        "svc_model = LinearSVC()\n",
        "svc_model.fit(x_train, y_train)\n",
        "svc_y_pred = svc_model.predict(x_test)\n",
        "print(f\"SVM\\nAccuracy:\\t{accuracy_score(y_test, svc_y_pred)}\")\n"
      ]
    },
    {
      "cell_type": "code",
      "execution_count": 75,
      "metadata": {
        "colab": {
          "base_uri": "https://localhost:8080/"
        },
        "id": "HeT4aOSNrrYM",
        "outputId": "be39b77c-5480-4dfb-d55f-9b1fa2ca8ece"
      },
      "outputs": [
        {
          "name": "stdout",
          "output_type": "stream",
          "text": [
            "Logistic Regression\n",
            "Accuracy:\t0.908408500542022\n"
          ]
        }
      ],
      "source": [
        "logistic_regression_model = LogisticRegression(C = 2, max_iter = 1000, n_jobs=-1)\n",
        "logistic_regression_model.fit(x_train, y_train)\n",
        "lr_y_pred = logistic_regression_model.predict(x_test)\n",
        "print(f\"Logistic Regression\\nAccuracy:\\t{accuracy_score(y_test, lr_y_pred)}\")\n"
      ]
    },
    {
      "cell_type": "code",
      "execution_count": 76,
      "metadata": {
        "colab": {
          "base_uri": "https://localhost:8080/"
        },
        "id": "XrRvDkFzrrYN",
        "outputId": "993b704b-11b6-4753-b6d7-af2a36568f71"
      },
      "outputs": [
        {
          "name": "stdout",
          "output_type": "stream",
          "text": [
            "XGBoost\n",
            "Accuracy:\t0.7117669918798961\n"
          ]
        }
      ],
      "source": [
        "encoder = LabelEncoder()\n",
        "encoder.fit(y_train)\n",
        "xgb_y_train = encoder.transform(y_train)\n",
        "xgb_y_test = encoder.transform(y_test)\n",
        "\n",
        "xgboost_model = XGBClassifier(n_jobs=-1)\n",
        "xgboost_model.fit(x_train, xgb_y_train)\n",
        "xgb_y_pred = xgboost_model.predict(x_test)\n",
        "print(f\"XGBoost\\nAccuracy:\\t{accuracy_score(xgb_y_test, xgb_y_pred)}\")\n"
      ]
    },
    {
      "cell_type": "code",
      "execution_count": null,
      "metadata": {
        "id": "1HLgNTd6rrYN"
      },
      "outputs": [],
      "source": [
        "random_forest_model = RandomForestClassifier(random_state=0, n_jobs=-1)\n",
        "random_forest_model.fit(x_train, y_train)\n",
        "rf_y_pred = random_forest_model.predict(x_test)\n",
        "print(f\"Random Forest\\nAccuracy:\\t{accuracy_score(y_test, rf_y_pred)}\")\n"
      ]
    },
    {
      "cell_type": "code",
      "execution_count": 30,
      "metadata": {
        "id": "7e9BImRwrrYO"
      },
      "outputs": [],
      "source": [
        "# save model\n",
        "\n",
        "with open(\"models/twitter_sentiment_model.pickle\", \"wb\") as file:\n",
        "    pickle.dump(svc_model, file)\n"
      ]
    }
  ],
  "metadata": {
    "colab": {
      "collapsed_sections": [],
      "name": "twitter_sentiment_analysis.ipynb",
      "provenance": []
    },
    "kernelspec": {
      "display_name": "Python 3.10.5 64-bit",
      "language": "python",
      "name": "python3"
    },
    "language_info": {
      "codemirror_mode": {
        "name": "ipython",
        "version": 3
      },
      "file_extension": ".py",
      "mimetype": "text/x-python",
      "name": "python",
      "nbconvert_exporter": "python",
      "pygments_lexer": "ipython3",
      "version": "3.10.5"
    },
    "vscode": {
      "interpreter": {
        "hash": "ab65a6a126614c4d8a09c3bb162b3d2e4f4a949753c6f0f735c7c1fe269df83b"
      }
    }
  },
  "nbformat": 4,
  "nbformat_minor": 0
}
